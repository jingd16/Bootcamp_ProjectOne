{
 "cells": [
  {
   "cell_type": "code",
   "execution_count": 1,
   "metadata": {},
   "outputs": [
    {
     "ename": "ModuleNotFoundError",
     "evalue": "No module named 'config'",
     "output_type": "error",
     "traceback": [
      "\u001b[1;31m---------------------------------------------------------------------------\u001b[0m",
      "\u001b[1;31mModuleNotFoundError\u001b[0m                       Traceback (most recent call last)",
      "\u001b[1;32m<ipython-input-1-0980863cdd60>\u001b[0m in \u001b[0;36m<module>\u001b[1;34m\u001b[0m\n\u001b[0;32m      7\u001b[0m \u001b[1;32mimport\u001b[0m \u001b[0mgmaps\u001b[0m\u001b[1;33m\u001b[0m\u001b[1;33m\u001b[0m\u001b[0m\n\u001b[0;32m      8\u001b[0m \u001b[1;32mfrom\u001b[0m \u001b[0mstatsmodels\u001b[0m\u001b[1;33m.\u001b[0m\u001b[0mformula\u001b[0m\u001b[1;33m.\u001b[0m\u001b[0mapi\u001b[0m \u001b[1;32mimport\u001b[0m \u001b[0mols\u001b[0m\u001b[1;33m\u001b[0m\u001b[1;33m\u001b[0m\u001b[0m\n\u001b[1;32m----> 9\u001b[1;33m \u001b[1;32mfrom\u001b[0m \u001b[0mconfig\u001b[0m \u001b[1;32mimport\u001b[0m \u001b[0mApi_Key\u001b[0m\u001b[1;33m\u001b[0m\u001b[1;33m\u001b[0m\u001b[0m\n\u001b[0m",
      "\u001b[1;31mModuleNotFoundError\u001b[0m: No module named 'config'"
     ]
    }
   ],
   "source": [
    "import os \n",
    "import pandas as pd\n",
    "import requests\n",
    "import matplotlib.pyplot as plt\n",
    "import requests\n",
    "from pprint import pprint\n",
    "import gmaps\n",
    "from statsmodels.formula.api import ols\n",
    "from config import Api_Key"
   ]
  },
  {
   "cell_type": "code",
   "execution_count": null,
   "metadata": {},
   "outputs": [],
   "source": [
    "# Configure gmaps\n",
    "gmaps.configure(api_key=Api_Key)"
   ]
  },
  {
   "cell_type": "code",
   "execution_count": null,
   "metadata": {},
   "outputs": [],
   "source": [
    "file = \"Resources/Road_Crashes_for_five_Years_-_Victoria.csv\"\n",
    "\n",
    "main_df = pd.read_csv(file)\n",
    "\n",
    "main_df.head()\n"
   ]
  },
  {
   "cell_type": "code",
   "execution_count": null,
   "metadata": {},
   "outputs": [],
   "source": [
    "#Print a list of columns, so we can find out which column we need\n",
    "print(main_df.columns.tolist())"
   ]
  },
  {
   "cell_type": "code",
   "execution_count": null,
   "metadata": {},
   "outputs": [],
   "source": [
    "#Created a new DataFrame, and took out some of the columns. \n",
    "#Feel free to delete more, I didn't limit the columns to our discussed topics, as there maybe more ideas later and we may use the extra columns\n",
    "\n",
    "crash_df = main_df[['accident_no',  'accident_date', 'date_value', \n",
    "                      'Daily_Rainfall', 'accident_time', 'alcoholtime', \n",
    "                      'accident_type', 'day_of_week', 'dca_code', \n",
    "                      'hit_run_flag', 'light_condition', 'police_attend', \n",
    "                      'road_geometry', 'severity', 'speed_zone', \n",
    "                      'run_offroad', 'longitude', 'latitude', \n",
    "                      'lga_name', 'region_name', 'total_persons', \n",
    "                      'inj_or_fatal', 'fatality', 'seriousinjury', \n",
    "                      'otherinjury', 'noninjured', \n",
    "                      'males', 'females',  \n",
    "                      'alcohol_related','stat_div_name']]"
   ]
  },
  {
   "cell_type": "code",
   "execution_count": null,
   "metadata": {
    "scrolled": true
   },
   "outputs": [],
   "source": [
    "#Display the dataframe\n",
    "crash_df.head()"
   ]
  },
  {
   "cell_type": "code",
   "execution_count": null,
   "metadata": {},
   "outputs": [],
   "source": [
    "#---------Proposed topics---------\n",
    "#-       Suburb vs accident numbers, display on Gmap (AJ)\n",
    "#-       Days of the week vs Accident numbers (SK)\n",
    "#-       Number of accident vs suburb (AJ)\n",
    "#-       Number of accident vs Region \n",
    "#-       Light condition (groupby) vs number of accident... \n",
    "#                 -what else could be closely related to light condition (Corrolation/Linea regression)\n",
    "#-       Nearest hospital vs suburbs that have the highest accident (Google Place API, Gmap) (JD)\n",
    "#-       Multi-line plot for Type of accident, over the 5 years (AJ)\n",
    "#-       Alcohol vs Dead end [\"road_geometry\"] (for fun!) (KK)\n",
    "#-       Rainfall vs accident numbers (SK)\n",
    "#-       Rainfall vs hit and run (KK)"
   ]
  },
  {
   "cell_type": "code",
   "execution_count": null,
   "metadata": {},
   "outputs": [],
   "source": [
    "#-----Jing's Part-------"
   ]
  },
  {
   "cell_type": "code",
   "execution_count": null,
   "metadata": {},
   "outputs": [],
   "source": [
    "#-       Nearest medical centre vs suburbs that have the highest accident (Google Place API, Gmap) (JD)"
   ]
  },
  {
   "cell_type": "code",
   "execution_count": null,
   "metadata": {},
   "outputs": [],
   "source": [
    "#Create a new Dataframe for Jing's part of analayst, so it's not going to affect other team members work\n",
    "suburb_df = crash_df[['accident_no',  'accident_date', 'date_value', \n",
    "                      'accident_type',  'dca_code', \n",
    "                      'light_condition','longitude', 'latitude', \n",
    "                      'lga_name', 'region_name']]"
   ]
  },
  {
   "cell_type": "code",
   "execution_count": null,
   "metadata": {},
   "outputs": [],
   "source": [
    "#Remove rows without Longitude and Latitude (including those with \"-1\" value)\n",
    "suburb_df_LatLng_cleaned = suburb_df.dropna()\n",
    "suburb_df_LatLng_cleaned = suburb_df_LatLng_cleaned.loc[(suburb_df_LatLng_cleaned[\"longitude\"] != -1)]"
   ]
  },
  {
   "cell_type": "code",
   "execution_count": null,
   "metadata": {},
   "outputs": [],
   "source": [
    "suburb_df_LatLng_cleaned.head()"
   ]
  },
  {
   "cell_type": "code",
   "execution_count": null,
   "metadata": {},
   "outputs": [],
   "source": [
    "#Create new dataframe for City vs Number of Accidents\n",
    "suburb_accid_df = pd.DataFrame(suburb_df_LatLng_cleaned[\"lga_name\"].value_counts())\n",
    "suburb_accid_df=suburb_accid_df.rename(columns = {\"lga_name\" : \"Number of Accident\"})"
   ]
  },
  {
   "cell_type": "code",
   "execution_count": null,
   "metadata": {
    "scrolled": true
   },
   "outputs": [],
   "source": [
    "suburb_accid_df.head(50)"
   ]
  },
  {
   "cell_type": "code",
   "execution_count": null,
   "metadata": {},
   "outputs": [],
   "source": [
    "#Add Latitude and Longitude of the cities\n",
    "suburb_accid_df[\"Latitude\"] = \"\"\n",
    "suburb_accid_df[\"Longitude\"] = \"\"\n",
    "suburb_accid_df[\"Closest Medical Centre\"] = \"\"\n",
    "suburb_accid_df[\"Address\"]=\"\""
   ]
  },
  {
   "cell_type": "code",
   "execution_count": null,
   "metadata": {},
   "outputs": [],
   "source": [
    "#Display the new dataframe\n",
    "suburb_accid_df.head(100)"
   ]
  },
  {
   "cell_type": "code",
   "execution_count": null,
   "metadata": {},
   "outputs": [],
   "source": [
    "#Reset Index and create a list of City Names, with Victoria and AU\n",
    "suburb_accid_df= suburb_accid_df.reset_index().copy()\n",
    "city = suburb_accid_df[\"index\"]+\",Victoria,AU\""
   ]
  },
  {
   "cell_type": "code",
   "execution_count": null,
   "metadata": {},
   "outputs": [],
   "source": [
    "#Loop throught the city names, and call GeoCode to return Latitude and Longtitude, then put into the datafram\n",
    "index1=0\n",
    "for x in city:\n",
    "    \n",
    "    # Build the endpoint URL\n",
    "    target_url = ('https://maps.googleapis.com/maps/api/geocode/json?''address={0}&key={1}').format(x, Api_Key)\n",
    "    \n",
    "    geo_data = requests.get(target_url).json()\n",
    "    \n",
    "    results = geo_data[\"results\"]\n",
    "    \n",
    "    suburb_accid_df.loc[index1, \"Latitude\"] = results[0][\"geometry\"][\"location\"][\"lat\"]\n",
    "    suburb_accid_df.loc[index1, \"Longitude\"] = results[0][\"geometry\"][\"location\"][\"lng\"]\n",
    "    index1+=1"
   ]
  },
  {
   "cell_type": "code",
   "execution_count": null,
   "metadata": {},
   "outputs": [],
   "source": [
    "#Display the dataframe\n",
    "suburb_accid_df.head(10)"
   ]
  },
  {
   "cell_type": "code",
   "execution_count": null,
   "metadata": {},
   "outputs": [],
   "source": [
    "locations = suburb_accid_df[[\"Latitude\", \"Longitude\"]]\n",
    "weights = suburb_accid_df[\"Number of Accident\"]/500"
   ]
  },
  {
   "cell_type": "code",
   "execution_count": null,
   "metadata": {},
   "outputs": [],
   "source": [
    "# Plot Heatmap to show the hotspots in Victoria\n",
    "fig = gmaps.figure(map_type=\"TERRAIN\")\n",
    "\n",
    "# Create heat layer\n",
    "heat_layer = gmaps.heatmap_layer(locations, weights=weights, \n",
    "                                 dissipating=False, max_intensity=2,\n",
    "                                 point_radius=0.015)\n",
    "\n",
    "#Add layer\n",
    "fig.add_layer(heat_layer)\n",
    "\n",
    "# Display figure\n",
    "fig"
   ]
  },
  {
   "cell_type": "code",
   "execution_count": null,
   "metadata": {},
   "outputs": [],
   "source": [
    "#Create a new Dataframe to find out the top 10 cities with most number of accidents\n",
    "first_10_df = suburb_accid_df.head(10).copy()\n",
    "first_10_city_df = first_10_df[[\"index\", \"Number of Accident\"]]"
   ]
  },
  {
   "cell_type": "code",
   "execution_count": null,
   "metadata": {},
   "outputs": [],
   "source": [
    "#Plot the information into a bar chat\n",
    "first_10_chart =first_10_city_df.plot(kind=\"bar\", \n",
    "                                 grid=True, \n",
    "                                 title=\"Victorian City vs Number of Accidents (2014 to 2019)\", \n",
    "                                 figsize=(10,7))\n",
    "first_10_chart.set_xlabel(\"City Name\")\n",
    "first_10_chart.set_ylabel(\"Number of Accidents\")\n",
    "first_10_chart.set_xticklabels(first_10_city_df[\"index\"], rotation = 45)\n",
    "plt.tight_layout()"
   ]
  },
  {
   "cell_type": "code",
   "execution_count": null,
   "metadata": {},
   "outputs": [],
   "source": [
    "# geocoordinates\n",
    "target_radius = 5000\n",
    "target_type = \"hospital\"\n",
    "\n",
    "# set up a parameters dictionary\n",
    "params = {\"radius\": target_radius,\n",
    "    \"type\": target_type,\n",
    "    \"key\": Api_Key\n",
    "}\n",
    "\n",
    "# base url\n",
    "base_url = \"https://maps.googleapis.com/maps/api/place/nearbysearch/json\"\n",
    "params[\"location\"]= \"-37.9848, 145.214\"\n",
    "\n",
    "# run a request using our params dictionary, test the API works\n",
    "response = requests.get(base_url, params=params)\n",
    "response_json=response.json()\n",
    "pprint(response_json)\n"
   ]
  },
  {
   "cell_type": "code",
   "execution_count": null,
   "metadata": {
    "scrolled": false
   },
   "outputs": [],
   "source": [
    "# Loop throught the dataframe, and call the API to find the nearst medical center in the city\n",
    "for index, row in first_10_df.iterrows():\n",
    "    # base url\n",
    "    base_url = \"https://maps.googleapis.com/maps/api/place/nearbysearch/json\"\n",
    "    \n",
    "    lat=row[\"Latitude\"]\n",
    "    lng=row[\"Longitude\"]\n",
    "    params[\"location\"] = f\"{lat},{lng}\"\n",
    "    response = requests.get(base_url, params=params)\n",
    "    response_json=response.json()\n",
    "    results = response_json[\"results\"]\n",
    "    #pprint(results)\n",
    "    #print(index)\n",
    "    \n",
    "    \n",
    "    try:\n",
    "        first_10_df.loc[index, \"Closest Medical Centre\"] = results[0][\"name\"]\n",
    "        first_10_df.loc[index, \"Address\"] = results[0][\"vicinity\"]\n",
    "        print(\"Finding nearst medical center in \" + row[\"index\"])\n",
    "    except:\n",
    "        print(row[\"index\"] + \" not found!\")\n",
    "        \n",
    "    print(\"============================\")"
   ]
  },
  {
   "cell_type": "code",
   "execution_count": null,
   "metadata": {},
   "outputs": [],
   "source": [
    "#Display the dataframe with the medical centre name\n",
    "first_10_df.head(10)"
   ]
  },
  {
   "cell_type": "code",
   "execution_count": null,
   "metadata": {},
   "outputs": [],
   "source": [
    "# Using the template add the hotel marks to the heatmap\n",
    "info_box_template = \"\"\"\n",
    "<dl>\n",
    "<dt>Name</dt><dd>{Closest Medical Centre}</dd>\n",
    "<dt>Address</dt><dd>{Address}</dd>\n",
    "</dl>\n",
    "\"\"\"\n",
    "# Store the DataFrame Row\n",
    "# NOTE: be sure to update with your DataFrame name\n",
    "medical_info1 = [info_box_template.format(**row) for index, row in first_10_df.iterrows()]\n",
    "locations = first_10_df[[\"Latitude\", \"Longitude\"]]"
   ]
  },
  {
   "cell_type": "code",
   "execution_count": null,
   "metadata": {},
   "outputs": [],
   "source": [
    "city = first_10_df[\"Number of Accident\"] / 100"
   ]
  },
  {
   "cell_type": "code",
   "execution_count": null,
   "metadata": {},
   "outputs": [],
   "source": [
    "# Plot Heatmap\n",
    "fig = gmaps.figure(map_type=\"TERRAIN\")\n",
    "\n",
    "# Create heat layer\n",
    "#heat_layer = gmaps.heatmap_layer(locations, weights=city, \n",
    "#                                 dissipating=False, max_intensity=1000,\n",
    "#                                 point_radius=0.01)\n",
    "\n",
    "#Add layer\n",
    "#fig.add_layer(heat_layer)\n",
    "\n",
    "# Create symbol layer\n",
    "\n",
    "symbol_layer = gmaps.marker_layer(locations, hover_text='', \n",
    "                      info_box_content=medical_info1 , display_info_box=None, label='')\n",
    "\n",
    "\n",
    "\n",
    "fig.add_layer(symbol_layer)\n",
    "\n",
    "# Display figure\n",
    "fig"
   ]
  },
  {
   "cell_type": "code",
   "execution_count": null,
   "metadata": {},
   "outputs": [],
   "source": [
    "#========End of Jing's part============"
   ]
  },
  {
   "cell_type": "code",
   "execution_count": null,
   "metadata": {},
   "outputs": [],
   "source": [
    "#======AJ's part ============="
   ]
  },
  {
   "cell_type": "code",
   "execution_count": null,
   "metadata": {},
   "outputs": [],
   "source": [
    "#Creating pie for all the 5 years for the accident types\n",
    "accident_group = crash_df.groupby('accident_type')['accident_type'].count()\n",
    "accident_chart = accident_group.plot(kind=\"pie\", y='accident_type', title=(\"Accident Type Over 5 Years\"), \n",
    "                                     legend=False, startangle=110, shadow=False, fontsize=10, figsize=(15,9))\n",
    "plt.savefig(\"Accident Type Over 5 Years.png\")"
   ]
  },
  {
   "cell_type": "code",
   "execution_count": null,
   "metadata": {},
   "outputs": [],
   "source": [
    "#Select only collumn required for Jing's part of analaysis\n",
    "light_df = crash_df[['accident_no',  'accident_date', 'date_value', \n",
    "                      'accident_type',  'dca_code', \n",
    "                      'light_condition','longitude', 'latitude', \n",
    "                      'lga_name', 'region_name']]\n",
    "light_df"
   ]
  },
  {
   "cell_type": "code",
   "execution_count": null,
   "metadata": {},
   "outputs": [],
   "source": [
    "light_accid_df = pd.DataFrame(light_df[\"light_condition\"].value_counts())\n",
    "light_accid_df"
   ]
  },
  {
   "cell_type": "code",
   "execution_count": null,
   "metadata": {},
   "outputs": [],
   "source": [
    "light_accid_df=light_accid_df.rename(columns = {\"light_condition\" : \"No of Accident\"})"
   ]
  },
  {
   "cell_type": "code",
   "execution_count": null,
   "metadata": {},
   "outputs": [],
   "source": [
    "light_accid_df.reset_index()"
   ]
  },
  {
   "cell_type": "code",
   "execution_count": null,
   "metadata": {},
   "outputs": [],
   "source": [
    "light_chart =light_accid_df.plot(kind=\"bar\", \n",
    "                                 grid=True, \n",
    "                                 title=\"Light Condition vs Number of Accidents (2014 to 2019)\", \n",
    "                                 figsize=(10,7))\n",
    "light_chart.set_xlabel(\"Light Condition\")\n",
    "light_chart.set_ylabel(\"Number of Accidents\")\n",
    "#plt.tight_layout()"
   ]
  },
  {
   "cell_type": "code",
   "execution_count": null,
   "metadata": {},
   "outputs": [],
   "source": [
    "#creating a dataframe for the region\n",
    "region_df = crash_df[['accident_no',  'accident_date', 'date_value', \n",
    "                      'accident_type',  'dca_code', \n",
    "                      'light_condition','longitude', 'latitude', \n",
    "                      'lga_name', 'region_name']]"
   ]
  },
  {
   "cell_type": "code",
   "execution_count": null,
   "metadata": {},
   "outputs": [],
   "source": [
    "#creating new dataframe for the region based on the value_counts\n",
    "region_accid_df = pd.DataFrame(region_df[\"region_name\"].value_counts())\n",
    "region_accid_df"
   ]
  },
  {
   "cell_type": "code",
   "execution_count": null,
   "metadata": {},
   "outputs": [],
   "source": [
    "#renaming the region name column\n",
    "region_accid_df= region_accid_df.rename(columns = {\"region_name\" : \"No of Accidents\"})"
   ]
  },
  {
   "cell_type": "code",
   "execution_count": null,
   "metadata": {},
   "outputs": [],
   "source": [
    "#plotting on a bar graph \n",
    "region_chart =region_accid_df.plot(kind=\"bar\", grid=True, \n",
    "                                 title=\"region vs Number of Accidents (2014 to 2019)\", \n",
    "                                 figsize=(10,7))\n",
    "region_chart.set_xlabel(\"Region\")\n",
    "region_chart.set_ylabel(\"Number of Accidents\")\n",
    "plt.savefig(\"region vs Number of Accidents (2014 to 2019.png\")"
   ]
  },
  {
   "cell_type": "code",
   "execution_count": null,
   "metadata": {},
   "outputs": [],
   "source": [
    "#creating a new dataframe to show accident_type by region\n",
    "new_df = crash_df[['accident_no',  'accident_date', 'date_value', \n",
    "                      'accident_type',  'dca_code', \n",
    "                      'light_condition','longitude', 'latitude', \n",
    "                      'lga_name', 'region_name']]\n"
   ]
  },
  {
   "cell_type": "code",
   "execution_count": null,
   "metadata": {},
   "outputs": [],
   "source": [
    "#grouping the dataframe by accident_type and getting the values for each region\n",
    "new_region_accid_df = crash_df.groupby(\"accident_type\")['region_name'].value_counts()\n",
    "new_region_accid_df.head(70)"
   ]
  },
  {
   "cell_type": "code",
   "execution_count": null,
   "metadata": {},
   "outputs": [],
   "source": [
    "#creating a dataframe for suburbs\n",
    "suburb_df = crash_df[['accident_no',  'accident_date', 'date_value', \n",
    "                      'accident_type',  'dca_code', \n",
    "                      'light_condition','longitude', 'latitude', \n",
    "                      'lga_name', 'region_name']]"
   ]
  },
  {
   "cell_type": "code",
   "execution_count": null,
   "metadata": {},
   "outputs": [],
   "source": [
    "#decalring accident_date as datetime.\n",
    "suburb_df['accident_date'] =  pd.to_datetime(suburb_df['accident_date'], infer_datetime_format=True)\n"
   ]
  },
  {
   "cell_type": "code",
   "execution_count": null,
   "metadata": {},
   "outputs": [],
   "source": [
    "#extracting the year from the accident_date column and creating a year column.\n",
    "suburb_df[\"year\"] = suburb_df['accident_date'].map(lambda x: x.year)\n",
    "total_accidents = suburb_df.groupby('year')[\"accident_type\"].count()\n",
    "suburb_df"
   ]
  },
  {
   "cell_type": "code",
   "execution_count": null,
   "metadata": {},
   "outputs": [],
   "source": [
    "accident_chart =total_accidents.plot(kind=\"bar\", \n",
    "                                 grid=True, \n",
    "                                 title=\"Total Accidents over 5 years\", \n",
    "                                 figsize=(15,5))\n",
    "accident_chart.set_xlabel(\"year\")\n",
    "accident_chart.set_ylabel(\"Number of Accidents\")"
   ]
  },
  {
   "cell_type": "code",
   "execution_count": null,
   "metadata": {},
   "outputs": [],
   "source": [
    "new_suburb = suburb_df.loc[suburb_df[\"year\"] != 2014]\n",
    "new_suburb_02 = new_suburb.loc[new_suburb[\"year\"] != 2019]"
   ]
  },
  {
   "cell_type": "code",
   "execution_count": null,
   "metadata": {},
   "outputs": [],
   "source": [
    "#creating accident_rate by groupping the df by year. And getting keys for the years.\n",
    "accident_rate = new_suburb_02.groupby('year')[\"accident_type\"].count()/ 100\n",
    "years = accident_rate .keys()\n",
    "years\n",
    "accident_rate"
   ]
  },
  {
   "cell_type": "code",
   "execution_count": null,
   "metadata": {},
   "outputs": [],
   "source": [
    "#accident_rate over the 5 year period \n",
    "plt.plot(years, accident_rate)\n",
    "plt.title(\"Accidents rate over the 5years\")\n",
    "plt.xlabel(\"years\")\n",
    "plt.ylabel(\"rate\")\n",
    "plt.savefig(\"Accidents rate over the 5years.png\")"
   ]
  },
  {
   "cell_type": "code",
   "execution_count": null,
   "metadata": {},
   "outputs": [],
   "source": [
    "#created a regression between years and the accident rate but not sure wheather this is correct. \n",
    "vc_slope, vc_int, vc_r, vc_p, vc_std_err = stats.linregress(years, accident_rate)\n",
    "vc_fit =  years * vc_slope + vc_int\n",
    "plt.scatter(years, accident_rate)\n",
    "plt.plot(years, vc_fit)\n",
    "line_eq = \"y =\" + str(round(vc_slope,2)) + \"x +\" + str(round(vc_int,2))\n",
    "plt.annotate(line_eq,(2016, 140), fontsize=15, color=\"red\")\n",
    "print(f\"The r-squared is: {vc_r**2}\")\n",
    "plt.title(\"Accidents rate over the 5years\")\n",
    "plt.xlabel(\"years\")\n",
    "plt.ylabel(\"rate\")\n",
    "plt.savefig(\"Accidents rate over the 5years_regression.png\")\n",
    "plt.show()"
   ]
  },
  {
   "cell_type": "code",
   "execution_count": null,
   "metadata": {},
   "outputs": [],
   "source": [
    "model = ols('Number of Accident ~ Latitude +  Longitude', data=first_10_df)\n",
    "fitted_model = model.fit()\n",
    "fitted_model.summary()"
   ]
  },
  {
   "cell_type": "code",
   "execution_count": null,
   "metadata": {},
   "outputs": [],
   "source": [
    "#Start of Stuart's Part********************************************"
   ]
  },
  {
   "cell_type": "code",
   "execution_count": null,
   "metadata": {},
   "outputs": [],
   "source": [
    "import os \n",
    "import pandas as pd\n",
    "import gmaps\n",
    "import requests\n",
    "import numpy as np\n",
    "import matplotlib.pyplot as plt\n",
    "import scipy.stats as st\n",
    "%matplotlib inline"
   ]
  },
  {
   "cell_type": "code",
   "execution_count": null,
   "metadata": {},
   "outputs": [],
   "source": [
    "# Weekday vs accident df\n",
    "weekday_df = crash_df[\"day_of_week\"].value_counts()\n",
    "weekday_df"
   ]
  },
  {
   "cell_type": "code",
   "execution_count": null,
   "metadata": {},
   "outputs": [],
   "source": [
    "# Weekday vs accident \"Left Handed\"\n",
    "\n",
    "weekday_chart =weekday_df.plot(kind=\"bar\",\n",
    "                                 grid=True,\n",
    "                                 title=\"2014 to 2019 - Did you have a Tough Week?\",\n",
    "                                 figsize=(10,7), color='r')\n",
    "\n",
    "plt.xlabel(\"Day of the Week\")\n",
    "plt.ylabel(\"Number of Accidents\")\n",
    "plt.show()"
   ]
  },
  {
   "cell_type": "code",
   "execution_count": null,
   "metadata": {},
   "outputs": [],
   "source": [
    "# Weekday vs accident \"Right Handed\"\n",
    "\n",
    "plt.style.use('ggplot')\n",
    "days = [\"Saturday\", \"Sunday\", \"Monday\", \"Tuesday\", \"Wednesday\", \"Thursday\", \"Friday\"]\n",
    "g = [8509, 10170, 10558, 11033, 11385, 11676, 11822]\n",
    "x_pos = np.arange(len(days))\n",
    "plt.bar(x_pos, g, color='r')\n",
    "plt.xlabel(\"Days\")\n",
    "plt.ylabel(\"Number of Accidents\")\n",
    "plt.title(\"2014 to 2019 - Did You Have a Tough Week?\")\n",
    "plt.xticks(x_pos, days, rotation=45)\n",
    "plt.tight_layout()\n",
    "plt.savefig(\"../Bootcamp_ProjectOne/A Tough Week Jul_2014 to Jul_2019.png\")"
   ]
  },
  {
   "cell_type": "code",
   "execution_count": null,
   "metadata": {},
   "outputs": [],
   "source": [
    "#***************YEAR BY YEAR*************************************************************************"
   ]
  },
  {
   "cell_type": "code",
   "execution_count": null,
   "metadata": {},
   "outputs": [],
   "source": [
    "#2015 Data Frame\n",
    "fifteen_df_start = main_df.loc[main_df[\"date_value\"] >=42005]\n",
    "fifteen_df = fifteen_df_start.loc[fifteen_df_start[\"date_value\"] <=42369]\n",
    "fifteen_df.head()"
   ]
  },
  {
   "cell_type": "code",
   "execution_count": null,
   "metadata": {},
   "outputs": [],
   "source": [
    "#2015 \"day_of_week\" Data Frame \n",
    "fifteendays_df = fifteen_df[\"day_of_week\"].value_counts()\n",
    "fifteendays_df"
   ]
  },
  {
   "cell_type": "code",
   "execution_count": null,
   "metadata": {},
   "outputs": [],
   "source": [
    "#2016 Data Frame\n",
    "sixteen_df_start = main_df.loc[main_df[\"date_value\"] >=42370]\n",
    "sixteen_df = sixteen_df_start.loc[sixteen_df_start[\"date_value\"] <=42735]\n",
    "sixteen_df.head()"
   ]
  },
  {
   "cell_type": "code",
   "execution_count": null,
   "metadata": {},
   "outputs": [],
   "source": [
    "#2016 \"day_of_week\" Data Frame \n",
    "sixteendays_df = sixteen_df[\"day_of_week\"].value_counts()\n",
    "sixteendays_df"
   ]
  },
  {
   "cell_type": "code",
   "execution_count": null,
   "metadata": {},
   "outputs": [],
   "source": [
    "#2017 Data Frame\n",
    "sevteen_df_start = main_df.loc[main_df[\"date_value\"] >=42736]\n",
    "sevteen_df = sevteen_df_start.loc[sevteen_df_start[\"date_value\"] <=43100]\n",
    "sevteen_df.head()"
   ]
  },
  {
   "cell_type": "code",
   "execution_count": null,
   "metadata": {},
   "outputs": [],
   "source": [
    "#2017 \"day_of_week\" Data Frame \n",
    "sevteendays_df = sevteen_df[\"day_of_week\"].value_counts()\n",
    "sevteendays_df"
   ]
  },
  {
   "cell_type": "code",
   "execution_count": null,
   "metadata": {},
   "outputs": [],
   "source": [
    "#2018 Data Frame\n",
    "eigteen_df_start = main_df.loc[main_df[\"date_value\"] >=43101]\n",
    "eigteen_df = eigteen_df_start.loc[eigteen_df_start[\"date_value\"] <=43465]\n",
    "eigteen_df.head()"
   ]
  },
  {
   "cell_type": "code",
   "execution_count": null,
   "metadata": {},
   "outputs": [],
   "source": [
    "#2018 \"day_of_week\" Data Frame \n",
    "eigteendays_df = eigteen_df[\"day_of_week\"].value_counts()\n",
    "eigteendays_df"
   ]
  },
  {
   "cell_type": "code",
   "execution_count": null,
   "metadata": {},
   "outputs": [],
   "source": [
    "daysx = ([\"Friday\", \"Thursday\", \"Wednesday\", \"Tuesday\", \"Monday\", \"Sunday\", \"Saturday\"])\n",
    "Y2015 = [2603, 2677, 2426, 2360, 2239, 2307, 1962]\n",
    "Y2016 = [2634, 2481, 2560, 2392, 2335, 2293, 1816]\n",
    "Y2017 = [2206, 2147, 2089, 2128, 2039, 1871, 1509]\n",
    "Y2018 = [2057, 2070, 2064, 1972, 1926, 1703, 1491]"
   ]
  },
  {
   "cell_type": "code",
   "execution_count": null,
   "metadata": {},
   "outputs": [],
   "source": [
    "# Generate a facet plot of all 4 figures\n",
    "fig, (ax1, ax2, ax3, ax4) = plt.subplots(4, sharex=True)\n",
    "fig.suptitle('Accidents Every Day of the Week', fontsize=16, fontweight=\"bold\")\n",
    "\n",
    "\n",
    "ax1.set_xlim(min(daysx), max(daysx))\n",
    "ax1.plot(daysx, Y2015, linewidth=1, marker=\"o\")\n",
    "#ax1.plot(daysx, Y2015, \"b--\", linewidth=1)\n",
    "ax1.set_ylabel(\"2015\")\n",
    "\n",
    "ax2.plot(daysx, Y2016, linewidth=1, marker=\"o\", color=\"r\")\n",
    "#ax2.plot(daysx, Y2016, \"r--\", linewidth=1)\n",
    "ax2.set_ylabel(\"2016\")\n",
    "\n",
    "ax3.plot(daysx, Y2017, linewidth=1, marker=\"o\", color=\"g\")\n",
    "#ax3.plot(daysx, Y2017, \"g--\", linewidth=1)\n",
    "ax3.set_ylabel(\"2017\")\n",
    "\n",
    "ax4.plot(daysx, Y2018, linewidth=1, marker=\"o\", color=\"b\")\n",
    "#ax4.plot(daysx, Y2018, \"b--\", linewidth=1)\n",
    "ax4.set_ylabel(\"2018\")\n",
    "ax4.set_xlabel(\"Day of the Week\")\n",
    "\n",
    "plt.show()"
   ]
  },
  {
   "cell_type": "code",
   "execution_count": null,
   "metadata": {},
   "outputs": [],
   "source": [
    "# Array rainfall amounts and count of accidents - \"just playing with numbers\"\n",
    "rainfall_df = pd.DataFrame({\n",
    "    \"Rainfall\":[0.1, 0.2, 0.3, 0.4, 0.6, 0.8, 1, 1.1, 1.2, 1.4, 1.6, 1.7, 1.8, 2, 2.2, 2.3, 2.4, 2.5, 2.6, 2.8, 3, 3.2, 3.4, 3.6, 3.7, 3.8, 4, 4.2, 4.4, 4.5, 4.6, 4.8, 4.9, 5, 5.2, 5.4, 5.5, 5.6, 5.8, 6, 6.2, 6.4, 6.6, 6.8, 7, 7.2, 7.4, 7.6, 7.8, 8, 8.2, 8.4, 8.5, 8.6, 8.8, 9.2, 9.6, 9.7, 9.8, 10, 10.2, 10.4, 10.6, 10.8, 11, 11.2, 11.4, 11.6, 11.8, 12, 12.2, 12.6, 12.8, 13, 13.6, 14.2, 14.4, 15, 15.2, 15.6, 15.8, 16, 16.2, 16.4, 16.6, 16.8, 17.4, 17.6, 17.8, 18, 18.6, 18.8, 19.2, 19.6, 20.6, 20.8, 21, 21.2, 21.6, 21.9, 22, 22.6, 22.8, 23.2, 25.5, 25.6, 27, 27.8, 28, 28.6, 29.6, 30.6, 35, 37.2, 38.4, 41.8, 47],\n",
    "    \"Accidents\":[120,2943,50,1697,1474,1331,1161,35,1303,644,767,26,947,551,903,34,511,41,809,680,475,164,602,436,22,24,290,303,290,51,266,120,34,214,165,236,34,330,90,41,234,170,29,181,330,216,137,108,70,105,139,104,42,41,149,76,60,38,212,41,67,44,121,182,81,90,49,41,44,44,125,83,105,92,51,50,49,126,30,38,33,41,71,45,93,51,32,47,36,34,91,31,45,44,45,51,54,39,52,29,47,38,39,50,42,86,48,37,52,48,45,44,20,44,44,36,43]\n",
    "})\n",
    "rainfall_df.head()"
   ]
  },
  {
   "cell_type": "code",
   "execution_count": null,
   "metadata": {},
   "outputs": [],
   "source": [
    "# Array numbers into a scatter plot\n",
    "x_limit = 47\n",
    "x_axis = [0.1, 0.2, 0.3, 0.4, 0.6, 0.8, 1, 1.1, 1.2, 1.4, 1.6, 1.7, 1.8, 2, 2.2, 2.3, 2.4, 2.5, 2.6, 2.8, 3, 3.2, 3.4, 3.6, 3.7, 3.8, 4, 4.2, 4.4, 4.5, 4.6, 4.8, 4.9, 5, 5.2, 5.4, 5.5, 5.6, 5.8, 6, 6.2, 6.4, 6.6, 6.8, 7, 7.2, 7.4, 7.6, 7.8, 8, 8.2, 8.4, 8.5, 8.6, 8.8, 9.2, 9.6, 9.7, 9.8, 10, 10.2, 10.4, 10.6, 10.8, 11, 11.2, 11.4, 11.6, 11.8, 12, 12.2, 12.6, 12.8, 13, 13.6, 14.2, 14.4, 15, 15.2, 15.6, 15.8, 16, 16.2, 16.4, 16.6, 16.8, 17.4, 17.6, 17.8, 18, 18.6, 18.8, 19.2, 19.6, 20.6, 20.8, 21, 21.2, 21.6, 21.9, 22, 22.6, 22.8, 23.2, 25.5, 25.6, 27, 27.8, 28, 28.6, 29.6, 30.6, 35, 37.2, 38.4, 41.8, 47],\n",
    "data = [120,2943,50,1697,1474,1331,1161,35,1303,644,767,26,947,551,903,34,511,41,809,680,475,164,602,436,22,24,290,303,290,51,266,120,34,214,165,236,34,330,90,41,234,170,29,181,330,216,137,108,70,105,139,104,42,41,149,76,60,38,212,41,67,44,121,182,81,90,49,41,44,44,125,83,105,92,51,50,49,126,30,38,33,41,71,45,93,51,32,47,36,34,91,31,45,44,45,51,54,39,52,29,47,38,39,50,42,86,48,37,52,48,45,44,20,44,44,36,43]\n",
    "plt.title(\"Rainfall Amount Vs Number of Accidents Jul_2014 to Jul_2019\")\n",
    "plt.xlabel(\"Rainfall in mm\")\n",
    "plt.ylabel(\"Number of Accidents\")\n",
    "plt.grid()\n",
    "plt.scatter(x_axis, data, marker=\"o\", facecolors=\"red\", edgecolors=\"black\",\n",
    "            s=x_axis, alpha=0.75)"
   ]
  },
  {
   "cell_type": "code",
   "execution_count": null,
   "metadata": {},
   "outputs": [],
   "source": [
    "rain_crash_df = main_df[['accident_no',  'accident_date', 'date_value', \n",
    "                      'Daily_Rainfall']]\n",
    "rain_crash_df "
   ]
  },
  {
   "cell_type": "code",
   "execution_count": null,
   "metadata": {},
   "outputs": [],
   "source": [
    "accident_count = rain_crash_df[\"accident_no\"].value_counts()\n",
    "accident_count"
   ]
  },
  {
   "cell_type": "code",
   "execution_count": null,
   "metadata": {},
   "outputs": [],
   "source": [
    "# Additional data set of rainfall data from BOM included in DoT data\n",
    "file = \"Resources/rain_vs_accident_five_years.csv\"\n",
    "\n",
    "rain_vs_acc = pd.read_csv(file)\n",
    "\n",
    "rain_vs_acc.head()"
   ]
  },
  {
   "cell_type": "code",
   "execution_count": null,
   "metadata": {},
   "outputs": [],
   "source": [
    "# Lets have a look\n",
    "plt.scatter(rain_vs_acc.iloc[:,3],rain_vs_acc.iloc[:,2])\n",
    "plt.ylabel('Daily Rainfall Amount (mm)')\n",
    "plt.xlabel('Count of accidents')\n",
    "plt.show()"
   ]
  },
  {
   "cell_type": "code",
   "execution_count": null,
   "metadata": {},
   "outputs": [],
   "source": [
    "#Import dependency\n",
    "import scipy.stats as st\n",
    "\n",
    "#Pearson correlation coefficient between \"Daily Rainfall Amount\" and \"Number of Accidents\"\n",
    "dailyrainfall = rain_vs_acc.iloc[:,3]\n",
    "countofcrash = rain_vs_acc.iloc[:,2]\n",
    "correlation = st.pearsonr(dailyrainfall,countofcrash)\n",
    "print(f\"The correlation between both factors is {round(correlation[0],2)}\")"
   ]
  },
  {
   "cell_type": "code",
   "execution_count": null,
   "metadata": {},
   "outputs": [],
   "source": [
    "#Lets turn it on it's side O-O\n",
    "\n",
    "dailyrainfall = rain_vs_acc.iloc[:,2]\n",
    "countofcrash = rain_vs_acc.iloc[:,3]\n",
    "plt.scatter(dailyrainfall,countofcrash)\n",
    "plt.xlabel('Daily Rainfall Amount (mm)')\n",
    "plt.ylabel('Count of accidents')\n",
    "\n",
    "#Pearson correlation coefficient between \"Daily Rainfall Amount\" and \"Number of Accidents\"\n",
    "correlation = st.pearsonr(dailyrainfall,countofcrash)\n",
    "print(f\"The correlation between both factors is {round(correlation[0],2)}\")\n",
    "plt.show()"
   ]
  },
  {
   "cell_type": "code",
   "execution_count": null,
   "metadata": {},
   "outputs": [],
   "source": [
    "#create the correlation df\n",
    "corr_rainacc = rain_vs_acc[['daily_Rainfall_amount', 'count_of_accidents']]\n",
    "corr_rainacc.head()"
   ]
  },
  {
   "cell_type": "code",
   "execution_count": null,
   "metadata": {},
   "outputs": [],
   "source": [
    "#Rainfall vs count of accident correlation matrix to see (lack of) correlations\n",
    "rain_corr = corr_rainacc.corr()\n",
    "rain_corr.unstack().sort_values()"
   ]
  },
  {
   "cell_type": "code",
   "execution_count": null,
   "metadata": {},
   "outputs": [],
   "source": [
    "# 'For Fun' all data correlation matrix \"nothing to see here\"\n",
    "all_corr = main_df.corr()\n",
    "all_corr.unstack().sort_values()"
   ]
  },
  {
   "cell_type": "code",
   "execution_count": null,
   "metadata": {},
   "outputs": [],
   "source": [
    "#The final scatter\n",
    "\n",
    "#Dependency\n",
    "from scipy.stats import linregress\n",
    "\n",
    "dailyrainfall = rain_vs_acc.iloc[:,3]\n",
    "countofcrash = rain_vs_acc.iloc[:,2]\n",
    "plt.scatter(dailyrainfall,countofcrash, color=\"b\")\n",
    "plt.xlabel('Count of accidents')\n",
    "plt.ylabel('Daily Rainfall Amount (mm)')\n",
    "plt.title('*July2014-July2019 Daily Rainfal Qty vs Count of Accident*')\n",
    "\n",
    "#linear regression equation and line to plot\n",
    "(slope, intercept, rvalue, pvalue, stderr) = linregress(dailyrainfall, countofcrash)\n",
    "regress_values = dailyrainfall * slope + intercept\n",
    "line_eq = \"y = \" + str(round(slope,2)) + \"x + \" + str(round(intercept,2))\n",
    "plt.plot(dailyrainfall,regress_values,\"r-\")\n",
    "plt.annotate(line_eq,(50,40),fontsize=15,color=\"r\")\n",
    "\n",
    "#Pearson correlation coefficient between \"Daily Rainfall Amount\" and \"Number of Accidents\"\n",
    "correlation = st.pearsonr(dailyrainfall,countofcrash)\n",
    "print(f\"The correlation between both factors is {round(correlation[0],2)}\")\n",
    "\n",
    "# Print out the r-squared value \n",
    "print(f\"The r-squared is: {rvalue**2}\")\n",
    "plt.show()\n",
    "plt.savefig(\"../Bootcamp_ProjectOne/Rainfall Vs Accidents Jul_2014 to Jul_2019.png\")"
   ]
  },
  {
   "cell_type": "code",
   "execution_count": null,
   "metadata": {},
   "outputs": [],
   "source": [
    "# End of Stuart's Code........................................Have a nice day "
   ]
  }
 ],
 "metadata": {
  "kernelspec": {
   "display_name": "Python 3",
   "language": "python",
   "name": "python3"
  },
  "language_info": {
   "codemirror_mode": {
    "name": "ipython",
    "version": 3
   },
   "file_extension": ".py",
   "mimetype": "text/x-python",
   "name": "python",
   "nbconvert_exporter": "python",
   "pygments_lexer": "ipython3",
   "version": "3.8.5"
  }
 },
 "nbformat": 4,
 "nbformat_minor": 4
}
