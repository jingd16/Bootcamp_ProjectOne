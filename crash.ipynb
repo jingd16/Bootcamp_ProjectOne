{
 "cells": [
  {
   "cell_type": "code",
   "execution_count": null,
   "metadata": {},
   "outputs": [],
   "source": [
    "import os \n",
    "import pandas as pd\n",
    "import gmaps\n",
    "import requests\n",
    "import numpy as np\n",
    "import matplotlib.pyplot as plt\n",
    "import scipy.stats as st\n",
    "%matplotlib inline"
   ]
  },
  {
   "cell_type": "code",
   "execution_count": null,
   "metadata": {},
   "outputs": [],
   "source": [
    "file = \"Resources/Road_Crashes_for_five_Years_-_Victoria.csv\"\n",
    "\n",
    "main_df = pd.read_csv(file)\n",
    "\n",
    "main_df.head()"
   ]
  },
  {
   "cell_type": "code",
   "execution_count": null,
   "metadata": {},
   "outputs": [],
   "source": [
    "#Print a list of columns, so we can find out which column we need\n",
    "print(main_df.columns.tolist())"
   ]
  },
  {
   "cell_type": "code",
   "execution_count": null,
   "metadata": {},
   "outputs": [],
   "source": [
    "#Hey guys, i've created a new DataFrame, and took out some of the columns. \n",
    "#Feel free to delete more, I didn't limit the columns to our discussed topics, as there maybe more ideas later and we may use the extra columns\n",
    "\n",
    "crash_df = main_df[['accident_no',  'accident_date', 'date_value', \n",
    "                      'Daily_Rainfall', 'accident_time', 'alcoholtime', \n",
    "                      'accident_type', 'day_of_week', 'dca_code', \n",
    "                      'hit_run_flag', 'light_condition', 'police_attend', \n",
    "                      'road_geometry', 'severity', 'speed_zone', \n",
    "                      'run_offroad', 'longitude', 'latitude', \n",
    "                      'lga_name', 'region_name', 'total_persons', \n",
    "                      'inj_or_fatal', 'fatality', 'seriousinjury', \n",
    "                      'otherinjury', 'noninjured', \n",
    "                      'males', 'females',  \n",
    "                      'alcohol_related','stat_div_name']]"
   ]
  },
  {
   "cell_type": "code",
   "execution_count": null,
   "metadata": {},
   "outputs": [],
   "source": [
    "crash_df.head()"
   ]
  },
  {
   "cell_type": "code",
   "execution_count": null,
   "metadata": {},
   "outputs": [],
   "source": [
    "#---------Proposed topics---------\n",
    "#-       Suburb vs accident numbers, display on Gmap (AJ)\n",
    "#-       Days of the week vs Accident numbers (SK)\n",
    "#-       Number of accident vs suburb (AJ)\n",
    "#-       Number of accident vs Region \n",
    "#-       Light condition (groupby) vs number of accident... \n",
    "#                 -what else could be closely related to light condition (Corrolation/Linea regression)\n",
    "#-       Nearest hospital vs suburbs that have the highest accident (Google Place API, Gmap) (JD)\n",
    "#-       Multi-line plot for Type of accident, over the 5 years (AJ)\n",
    "#-       Alcohol vs Dead end [\"road_geometry\"] (for fun!) (KK)\n",
    "#-       Rainfall vs accident numbers (SK)\n",
    "#-       Rainfall vs hit and run (KK)"
   ]
  },
  {
   "cell_type": "code",
   "execution_count": null,
   "metadata": {},
   "outputs": [],
   "source": [
    "#**************************Days of the week vs Accident numbers - Stuart Karpin************************************************"
   ]
  },
  {
   "cell_type": "code",
   "execution_count": null,
   "metadata": {
    "scrolled": true
   },
   "outputs": [],
   "source": [
    "# Weekday vs accident df\n",
    "weekday_df = crash_df[\"day_of_week\"].value_counts()\n",
    "weekday_df"
   ]
  },
  {
   "cell_type": "code",
   "execution_count": null,
   "metadata": {
    "scrolled": true
   },
   "outputs": [],
   "source": [
    "# Weekday vs accident \"Left Handed\"\n",
    "\n",
    "weekday_chart =weekday_df.plot(kind=\"bar\",\n",
    "                                 grid=True,\n",
    "                                 title=\"2014 to 2019 - Did you have a Tough Week?\",\n",
    "                                 figsize=(10,7), color='r')\n",
    "\n",
    "plt.xlabel(\"Day of the Week\")\n",
    "plt.ylabel(\"Number of Accidents\")\n",
    "plt.show()"
   ]
  },
  {
   "cell_type": "code",
   "execution_count": null,
   "metadata": {
    "scrolled": false
   },
   "outputs": [],
   "source": [
    "# Weekday vs accident \"Right Handed\"\n",
    "\n",
    "\n",
    "plt.style.use('ggplot')\n",
    "days = [\"Saturday\", \"Sunday\", \"Monday\", \"Tuesday\", \"Wednesday\", \"Thursday\", \"Friday\"]\n",
    "g = [8509, 10170, 10558, 11033, 11385, 11676, 11822]\n",
    "x_pos = np.arange(len(days))\n",
    "plt.bar(x_pos, g, color='r')\n",
    "plt.xlabel(\"Days\")\n",
    "plt.ylabel(\"Number of Accidents\")\n",
    "plt.title(\"2014 to 2019 - Did You Have a Tough Week?\")\n",
    "plt.xticks(x_pos, days, rotation=45)\n",
    "plt.tight_layout()\n",
    "plt.savefig(\"../Bootcamp_ProjectOne/A Tough Week Jul_2014 to Jul_2019.png\")"
   ]
  },
  {
   "cell_type": "code",
   "execution_count": null,
   "metadata": {},
   "outputs": [],
   "source": [
    "#***************YEAR BY YEAR*************************************************************************"
   ]
  },
  {
   "cell_type": "code",
   "execution_count": null,
   "metadata": {
    "scrolled": false
   },
   "outputs": [],
   "source": [
    "#2015 Data Frame\n",
    "fifteen_df_start = main_df.loc[main_df[\"date_value\"] >=42005]\n",
    "fifteen_df = fifteen_df_start.loc[fifteen_df_start[\"date_value\"] <=42369]\n",
    "fifteen_df.head()"
   ]
  },
  {
   "cell_type": "code",
   "execution_count": null,
   "metadata": {},
   "outputs": [],
   "source": [
    "#2015 \"day_of_week\" Data Frame \n",
    "fifteendays_df = fifteen_df[\"day_of_week\"].value_counts()\n",
    "fifteendays_df"
   ]
  },
  {
   "cell_type": "code",
   "execution_count": null,
   "metadata": {
    "scrolled": true
   },
   "outputs": [],
   "source": [
    "#2016 Data Frame\n",
    "sixteen_df_start = main_df.loc[main_df[\"date_value\"] >=42370]\n",
    "sixteen_df = sixteen_df_start.loc[sixteen_df_start[\"date_value\"] <=42735]\n",
    "sixteen_df.head()"
   ]
  },
  {
   "cell_type": "code",
   "execution_count": null,
   "metadata": {
    "scrolled": true
   },
   "outputs": [],
   "source": [
    "#2016 \"day_of_week\" Data Frame \n",
    "sixteendays_df = sixteen_df[\"day_of_week\"].value_counts()\n",
    "sixteendays_df"
   ]
  },
  {
   "cell_type": "code",
   "execution_count": null,
   "metadata": {
    "scrolled": true
   },
   "outputs": [],
   "source": [
    "#2017 Data Frame\n",
    "sevteen_df_start = main_df.loc[main_df[\"date_value\"] >=42736]\n",
    "sevteen_df = sevteen_df_start.loc[sevteen_df_start[\"date_value\"] <=43100]\n",
    "sevteen_df.head()"
   ]
  },
  {
   "cell_type": "code",
   "execution_count": null,
   "metadata": {},
   "outputs": [],
   "source": [
    "#2017 \"day_of_week\" Data Frame \n",
    "sevteendays_df = sevteen_df[\"day_of_week\"].value_counts()\n",
    "sevteendays_df"
   ]
  },
  {
   "cell_type": "code",
   "execution_count": null,
   "metadata": {
    "scrolled": true
   },
   "outputs": [],
   "source": [
    "#2018 Data Frame\n",
    "eigteen_df_start = main_df.loc[main_df[\"date_value\"] >=43101]\n",
    "eigteen_df = eigteen_df_start.loc[eigteen_df_start[\"date_value\"] <=43465]\n",
    "eigteen_df.head()"
   ]
  },
  {
   "cell_type": "code",
   "execution_count": null,
   "metadata": {
    "scrolled": true
   },
   "outputs": [],
   "source": [
    "#2018 \"day_of_week\" Data Frame \n",
    "eigteendays_df = eigteen_df[\"day_of_week\"].value_counts()\n",
    "eigteendays_df"
   ]
  },
  {
   "cell_type": "code",
   "execution_count": null,
   "metadata": {},
   "outputs": [],
   "source": [
    "daysx = ([\"Friday\", \"Thursday\", \"Wednesday\", \"Tuesday\", \"Monday\", \"Sunday\", \"Saturday\"])\n",
    "Y2015 = [2603, 2677, 2426, 2360, 2239, 2307, 1962]\n",
    "Y2016 = [2634, 2481, 2560, 2392, 2335, 2293, 1816]\n",
    "Y2017 = [2206, 2147, 2089, 2128, 2039, 1871, 1509]\n",
    "Y2018 = [2057, 2070, 2064, 1972, 1926, 1703, 1491]"
   ]
  },
  {
   "cell_type": "code",
   "execution_count": null,
   "metadata": {},
   "outputs": [],
   "source": [
    "# Generate a facet plot of all 4 figures\n",
    "fig, (ax1, ax2, ax3, ax4) = plt.subplots(4, sharex=True)\n",
    "fig.suptitle('Accidents Every Day of the Week', fontsize=16, fontweight=\"bold\")\n",
    "\n",
    "\n",
    "ax1.set_xlim(min(daysx), max(daysx))\n",
    "ax1.plot(daysx, Y2015, linewidth=1, marker=\"o\")\n",
    "#ax1.plot(daysx, Y2015, \"b--\", linewidth=1)\n",
    "ax1.set_ylabel(\"2015\")\n",
    "\n",
    "ax2.plot(daysx, Y2016, linewidth=1, marker=\"o\", color=\"r\")\n",
    "#ax2.plot(daysx, Y2016, \"r--\", linewidth=1)\n",
    "ax2.set_ylabel(\"2016\")\n",
    "\n",
    "ax3.plot(daysx, Y2017, linewidth=1, marker=\"o\", color=\"g\")\n",
    "#ax3.plot(daysx, Y2017, \"g--\", linewidth=1)\n",
    "ax3.set_ylabel(\"2017\")\n",
    "\n",
    "ax4.plot(daysx, Y2018, linewidth=1, marker=\"o\", color=\"b\")\n",
    "#ax4.plot(daysx, Y2018, \"b--\", linewidth=1)\n",
    "ax4.set_ylabel(\"2018\")\n",
    "ax4.set_xlabel(\"Day of the Week\")\n",
    "\n",
    "plt.show()"
   ]
  },
  {
   "cell_type": "code",
   "execution_count": null,
   "metadata": {},
   "outputs": [],
   "source": [
    "#************************************Rainfall vs accident numbers - Stuart Karpin************************************"
   ]
  },
  {
   "cell_type": "code",
   "execution_count": null,
   "metadata": {
    "scrolled": true
   },
   "outputs": [],
   "source": [
    "# Array rainfall amounts and count of accidents - \"just playing with numbers\"\n",
    "rainfall_df = pd.DataFrame({\n",
    "    \"Rainfall\":[0.1, 0.2, 0.3, 0.4, 0.6, 0.8, 1, 1.1, 1.2, 1.4, 1.6, 1.7, 1.8, 2, 2.2, 2.3, 2.4, 2.5, 2.6, 2.8, 3, 3.2, 3.4, 3.6, 3.7, 3.8, 4, 4.2, 4.4, 4.5, 4.6, 4.8, 4.9, 5, 5.2, 5.4, 5.5, 5.6, 5.8, 6, 6.2, 6.4, 6.6, 6.8, 7, 7.2, 7.4, 7.6, 7.8, 8, 8.2, 8.4, 8.5, 8.6, 8.8, 9.2, 9.6, 9.7, 9.8, 10, 10.2, 10.4, 10.6, 10.8, 11, 11.2, 11.4, 11.6, 11.8, 12, 12.2, 12.6, 12.8, 13, 13.6, 14.2, 14.4, 15, 15.2, 15.6, 15.8, 16, 16.2, 16.4, 16.6, 16.8, 17.4, 17.6, 17.8, 18, 18.6, 18.8, 19.2, 19.6, 20.6, 20.8, 21, 21.2, 21.6, 21.9, 22, 22.6, 22.8, 23.2, 25.5, 25.6, 27, 27.8, 28, 28.6, 29.6, 30.6, 35, 37.2, 38.4, 41.8, 47],\n",
    "    \"Accidents\":[120,2943,50,1697,1474,1331,1161,35,1303,644,767,26,947,551,903,34,511,41,809,680,475,164,602,436,22,24,290,303,290,51,266,120,34,214,165,236,34,330,90,41,234,170,29,181,330,216,137,108,70,105,139,104,42,41,149,76,60,38,212,41,67,44,121,182,81,90,49,41,44,44,125,83,105,92,51,50,49,126,30,38,33,41,71,45,93,51,32,47,36,34,91,31,45,44,45,51,54,39,52,29,47,38,39,50,42,86,48,37,52,48,45,44,20,44,44,36,43]\n",
    "})\n",
    "rainfall_df.head()"
   ]
  },
  {
   "cell_type": "code",
   "execution_count": null,
   "metadata": {
    "scrolled": false
   },
   "outputs": [],
   "source": [
    "# Array numbers into a scatter plot\n",
    "x_limit = 47\n",
    "x_axis = [0.1, 0.2, 0.3, 0.4, 0.6, 0.8, 1, 1.1, 1.2, 1.4, 1.6, 1.7, 1.8, 2, 2.2, 2.3, 2.4, 2.5, 2.6, 2.8, 3, 3.2, 3.4, 3.6, 3.7, 3.8, 4, 4.2, 4.4, 4.5, 4.6, 4.8, 4.9, 5, 5.2, 5.4, 5.5, 5.6, 5.8, 6, 6.2, 6.4, 6.6, 6.8, 7, 7.2, 7.4, 7.6, 7.8, 8, 8.2, 8.4, 8.5, 8.6, 8.8, 9.2, 9.6, 9.7, 9.8, 10, 10.2, 10.4, 10.6, 10.8, 11, 11.2, 11.4, 11.6, 11.8, 12, 12.2, 12.6, 12.8, 13, 13.6, 14.2, 14.4, 15, 15.2, 15.6, 15.8, 16, 16.2, 16.4, 16.6, 16.8, 17.4, 17.6, 17.8, 18, 18.6, 18.8, 19.2, 19.6, 20.6, 20.8, 21, 21.2, 21.6, 21.9, 22, 22.6, 22.8, 23.2, 25.5, 25.6, 27, 27.8, 28, 28.6, 29.6, 30.6, 35, 37.2, 38.4, 41.8, 47],\n",
    "data = [120,2943,50,1697,1474,1331,1161,35,1303,644,767,26,947,551,903,34,511,41,809,680,475,164,602,436,22,24,290,303,290,51,266,120,34,214,165,236,34,330,90,41,234,170,29,181,330,216,137,108,70,105,139,104,42,41,149,76,60,38,212,41,67,44,121,182,81,90,49,41,44,44,125,83,105,92,51,50,49,126,30,38,33,41,71,45,93,51,32,47,36,34,91,31,45,44,45,51,54,39,52,29,47,38,39,50,42,86,48,37,52,48,45,44,20,44,44,36,43]\n",
    "plt.title(\"Rainfall Amount Vs Number of Accidents Jul_2014 to Jul_2019\")\n",
    "plt.xlabel(\"Rainfall in mm\")\n",
    "plt.ylabel(\"Number of Accidents\")\n",
    "plt.grid()\n",
    "plt.scatter(x_axis, data, marker=\"o\", facecolors=\"red\", edgecolors=\"black\",\n",
    "            s=x_axis, alpha=0.75)\n",
    "#plt.savefig(\"../Bootcamp_ProjectOne/Rainfall Vs Number of Accidents Jul_2014 to Jul_2019.png\")"
   ]
  },
  {
   "cell_type": "code",
   "execution_count": null,
   "metadata": {
    "scrolled": true
   },
   "outputs": [],
   "source": [
    "rain_crash_df = main_df[['accident_no',  'accident_date', 'date_value', \n",
    "                      'Daily_Rainfall']]\n",
    "rain_crash_df  "
   ]
  },
  {
   "cell_type": "code",
   "execution_count": null,
   "metadata": {},
   "outputs": [],
   "source": [
    "accident_count = rain_crash_df[\"accident_no\"].value_counts()\n",
    "accident_count"
   ]
  },
  {
   "cell_type": "code",
   "execution_count": null,
   "metadata": {
    "scrolled": true
   },
   "outputs": [],
   "source": [
    "# Additional data set of rainfall data from BOM included in DoT data\n",
    "file = \"Resources/rain_vs_accident_five_years.csv\"\n",
    "\n",
    "rain_vs_acc = pd.read_csv(file)\n",
    "\n",
    "rain_vs_acc.head()"
   ]
  },
  {
   "cell_type": "code",
   "execution_count": null,
   "metadata": {
    "scrolled": true
   },
   "outputs": [],
   "source": [
    "# Lets have a look\n",
    "plt.scatter(rain_vs_acc.iloc[:,3],rain_vs_acc.iloc[:,2])\n",
    "plt.ylabel('Daily Rainfall Amount (mm)')\n",
    "plt.xlabel('Count of accidents')\n",
    "plt.show()"
   ]
  },
  {
   "cell_type": "code",
   "execution_count": null,
   "metadata": {
    "scrolled": true
   },
   "outputs": [],
   "source": [
    "#Import dependency\n",
    "import scipy.stats as st\n",
    "\n",
    "#Pearson correlation coefficient between \"Daily Rainfall Amount\" and \"Number of Accidents\"\n",
    "dailyrainfall = rain_vs_acc.iloc[:,3]\n",
    "countofcrash = rain_vs_acc.iloc[:,2]\n",
    "correlation = st.pearsonr(dailyrainfall,countofcrash)\n",
    "print(f\"The correlation between both factors is {round(correlation[0],2)}\")"
   ]
  },
  {
   "cell_type": "code",
   "execution_count": null,
   "metadata": {
    "scrolled": true
   },
   "outputs": [],
   "source": [
    "#Lets turn it on it's side O-O\n",
    "\n",
    "dailyrainfall = rain_vs_acc.iloc[:,2]\n",
    "countofcrash = rain_vs_acc.iloc[:,3]\n",
    "plt.scatter(dailyrainfall,countofcrash)\n",
    "plt.xlabel('Daily Rainfall Amount (mm)')\n",
    "plt.ylabel('Count of accidents')\n",
    "\n",
    "#Pearson correlation coefficient between \"Daily Rainfall Amount\" and \"Number of Accidents\"\n",
    "correlation = st.pearsonr(dailyrainfall,countofcrash)\n",
    "print(f\"The correlation between both factors is {round(correlation[0],2)}\")\n",
    "plt.show()"
   ]
  },
  {
   "cell_type": "code",
   "execution_count": null,
   "metadata": {
    "scrolled": true
   },
   "outputs": [],
   "source": [
    "#create the correlation df\n",
    "corr_rainacc = rain_vs_acc[['daily_Rainfall_amount', 'count_of_accidents']]\n",
    "corr_rainacc.head()"
   ]
  },
  {
   "cell_type": "code",
   "execution_count": null,
   "metadata": {
    "scrolled": true
   },
   "outputs": [],
   "source": [
    "#Rainfall vs count of accident correlation matrix to see (lack of) correlations\n",
    "rain_corr = corr_rainacc.corr()\n",
    "rain_corr.unstack().sort_values()"
   ]
  },
  {
   "cell_type": "code",
   "execution_count": null,
   "metadata": {},
   "outputs": [],
   "source": [
    "# 'For Fun' all data correlation matrix \"nothing to see here\"\n",
    "all_corr = main_df.corr()\n",
    "all_corr.unstack().sort_values()"
   ]
  },
  {
   "cell_type": "code",
   "execution_count": null,
   "metadata": {},
   "outputs": [],
   "source": [
    "#The final scatter\n",
    "\n",
    "#Dependency\n",
    "from scipy.stats import linregress\n",
    "\n",
    "dailyrainfall = rain_vs_acc.iloc[:,3]\n",
    "countofcrash = rain_vs_acc.iloc[:,2]\n",
    "plt.scatter(dailyrainfall,countofcrash, color=\"b\")\n",
    "plt.xlabel('Count of accidents')\n",
    "plt.ylabel('Daily Rainfall Amount (mm)')\n",
    "plt.title('*July2014-July2019 Daily Rainfal Qty vs Count of Accident*')\n",
    "\n",
    "#linear regression equation and line to plot\n",
    "(slope, intercept, rvalue, pvalue, stderr) = linregress(dailyrainfall, countofcrash)\n",
    "regress_values = dailyrainfall * slope + intercept\n",
    "line_eq = \"y = \" + str(round(slope,2)) + \"x + \" + str(round(intercept,2))\n",
    "plt.plot(dailyrainfall,regress_values,\"r-\")\n",
    "plt.annotate(line_eq,(50,40),fontsize=15,color=\"r\")\n",
    "\n",
    "#Pearson correlation coefficient between \"Daily Rainfall Amount\" and \"Number of Accidents\"\n",
    "correlation = st.pearsonr(dailyrainfall,countofcrash)\n",
    "print(f\"The correlation between both factors is {round(correlation[0],2)}\")\n",
    "\n",
    "# Print out the r-squared value \n",
    "print(f\"The r-squared is: {rvalue**2}\")\n",
    "plt.show()\n",
    "plt.savefig(\"../Bootcamp_ProjectOne/Rainfall Vs Accidents Jul_2014 to Jul_2019.png\")"
   ]
  },
  {
   "cell_type": "code",
   "execution_count": null,
   "metadata": {},
   "outputs": [],
   "source": [
    "# End of Stuart's Code........................................Have a nice day "
   ]
  },
  {
   "cell_type": "code",
   "execution_count": null,
   "metadata": {},
   "outputs": [],
   "source": []
  }
 ],
 "metadata": {
  "kernelspec": {
   "display_name": "Python 3",
   "language": "python",
   "name": "python3"
  },
  "language_info": {
   "codemirror_mode": {
    "name": "ipython",
    "version": 3
   },
   "file_extension": ".py",
   "mimetype": "text/x-python",
   "name": "python",
   "nbconvert_exporter": "python",
   "pygments_lexer": "ipython3",
   "version": "3.8.5"
  }
 },
 "nbformat": 4,
 "nbformat_minor": 4
}
